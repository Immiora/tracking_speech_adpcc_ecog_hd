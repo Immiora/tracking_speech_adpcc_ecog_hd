{
 "cells": [
  {
   "cell_type": "markdown",
   "metadata": {},
   "source": [
    "# Spearman correlation between spectral envelope and pitch\n",
    "\n",
    "- for speech and non-speech fragments\n",
    "- for noisy fragments in mixed and isolated soundtracks"
   ]
  },
  {
   "cell_type": "code",
   "execution_count": 2,
   "metadata": {},
   "outputs": [],
   "source": [
    "import matplotlib as mpl\n",
    "mpl.use('TkAgg')\n",
    "import matplotlib.pyplot as plt\n",
    "import numpy as np\n",
    "from scipy.stats import ttest_ind, ttest_rel, pearsonr, spearmanr\n",
    "from utils import load_fragment_times, load_noisy_fragment_times\n",
    "\n",
    "%matplotlib inline"
   ]
  },
  {
   "cell_type": "code",
   "execution_count": 5,
   "metadata": {},
   "outputs": [],
   "source": [
    "hdir = '..'\n",
    "speech = load_fragment_times(hdir, 'speech')\n",
    "nonspeech = load_fragment_times(hdir, 'nonspeech')\n",
    "aud = np.load('../data/audio_envelope_100Hz.npy')\n",
    "pitch = np.loadtxt('../data/M3_audio_mono_down_pitch_short_edited')\n",
    "\n",
    "noisy = load_noisy_fragment_times(hdir)\n",
    "isolated = np.load('../data/audio_envelope_100Hz_clean.npy')"
   ]
  },
  {
   "cell_type": "code",
   "execution_count": 6,
   "metadata": {},
   "outputs": [
    {
     "name": "stderr",
     "output_type": "stream",
     "text": [
      "/home/julia/Documents/Python/anaconda3/lib/python3.7/site-packages/numpy/lib/function_base.py:2400: RuntimeWarning: invalid value encountered in true_divide\n",
      "  c /= stddev[:, None]\n",
      "/home/julia/Documents/Python/anaconda3/lib/python3.7/site-packages/numpy/lib/function_base.py:2401: RuntimeWarning: invalid value encountered in true_divide\n",
      "  c /= stddev[None, :]\n",
      "/home/julia/Documents/Python/anaconda3/lib/python3.7/site-packages/scipy/stats/_distn_infrastructure.py:879: RuntimeWarning: invalid value encountered in greater\n",
      "  return (self.a < x) & (x < self.b)\n",
      "/home/julia/Documents/Python/anaconda3/lib/python3.7/site-packages/scipy/stats/_distn_infrastructure.py:879: RuntimeWarning: invalid value encountered in less\n",
      "  return (self.a < x) & (x < self.b)\n",
      "/home/julia/Documents/Python/anaconda3/lib/python3.7/site-packages/scipy/stats/_distn_infrastructure.py:1821: RuntimeWarning: invalid value encountered in less_equal\n",
      "  cond2 = cond0 & (x <= self.a)\n"
     ]
    }
   ],
   "source": [
    "r_spe, r_non = [], []\n",
    "for spe_frag, non_frag in zip(speech, nonspeech):\n",
    "    r_spe.append(spearmanr(aud[spe_frag[0]:spe_frag[1]], pitch[spe_frag[0]:spe_frag[1]])[0])\n",
    "    r_non.append(spearmanr(aud[non_frag[0]:non_frag[1]], pitch[non_frag[0]:non_frag[1]])[0])"
   ]
  },
  {
   "cell_type": "code",
   "execution_count": 13,
   "metadata": {},
   "outputs": [],
   "source": [
    "r_iso, r_mix = [], []\n",
    "for noisy_frag in noisy:\n",
    "    r_iso.append(spearmanr(isolated[noisy_frag[0]:noisy_frag[1]], pitch[noisy_frag[0]:noisy_frag[1]])[0])\n",
    "    r_mix.append(spearmanr(aud[noisy_frag[0]:noisy_frag[1]], pitch[noisy_frag[0]:noisy_frag[1]])[0])"
   ]
  },
  {
   "cell_type": "code",
   "execution_count": 14,
   "metadata": {},
   "outputs": [
    {
     "data": {
      "image/png": "[encoded data removed]",
      "text/plain": [
       "<Figure size 720x360 with 2 Axes>"
      ]
     },
     "metadata": {
      "needs_background": "light"
     },
     "output_type": "display_data"
    }
   ],
   "source": [
    "plt.figure(figsize=(6, 3), dpi=120)\n",
    "plt.subplot(121)\n",
    "plt.bar([.5, 1], [np.mean(r_spe), np.nanmean(r_non)], width=.33, facecolor='w', edgecolor='k', linewidth=1.5)\n",
    "plt.errorbar([.5, 1], [np.mean(r_spe), np.nanmean(r_non)], yerr=[np.std(r_spe)/\n",
    "                    np.sqrt(speech.shape[0]), np.nanstd(r_non)/np.sqrt(speech.shape[0])], linestyle='none', color='k')\n",
    "plt.xlim(0, 1.5)\n",
    "plt.ylabel('Correlation')\n",
    "plt.xticks([.5, 1], ['Speech', 'Non-speech'])\n",
    "\n",
    "plt.subplot(122)\n",
    "plt.bar([.5, 1], [np.mean(r_iso), np.mean(r_mix)], width=.33, facecolor='w', edgecolor='k', linewidth=1.5)\n",
    "plt.errorbar([.5, 1], [np.mean(r_iso), np.mean(r_mix)], yerr=[np.std(r_iso)/\n",
    "                    np.sqrt(noisy.shape[0]), np.std(r_mix)/np.sqrt(noisy.shape[0])], linestyle='none', color='k')\n",
    "plt.xlim(0, 1.5)\n",
    "plt.xticks([.5, 1], ['Isolated', 'Mixel'])\n",
    "plt.ylabel('Correlation')\n",
    "plt.tight_layout()\n",
    "plt.show()"
   ]
  },
  {
   "cell_type": "code",
   "execution_count": 11,
   "metadata": {},
   "outputs": [
    {
     "name": "stdout",
     "output_type": "stream",
     "text": [
      "Ttest_indResult(statistic=10.951937481343345, pvalue=2.83596740652991e-22)\n"
     ]
    }
   ],
   "source": [
    "## ttest for correlation pitch/spectral envelope in speech and nonspeech fragments\n",
    "print(ttest_ind(np.arctanh(np.array(r_spe)), np.arctanh(np.array(r_non)[~np.isnan(r_non)])))"
   ]
  },
  {
   "cell_type": "code",
   "execution_count": 15,
   "metadata": {},
   "outputs": [
    {
     "name": "stdout",
     "output_type": "stream",
     "text": [
      "Ttest_relResult(statistic=2.3565186196581633, pvalue=0.021621399320052616)\n"
     ]
    }
   ],
   "source": [
    "## ttest for correlation pitch/spectral envelope in noisy fragments of isolated and mixed tracks\n",
    "print(ttest_rel(np.arctanh(np.array(r_iso)), np.arctanh(np.array(r_mix))))"
   ]
  }
 ],
 "metadata": {
  "kernelspec": {
   "display_name": "Python 3",
   "language": "python",
   "name": "python3"
  },
  "language_info": {
   "codemirror_mode": {
    "name": "ipython",
    "version": 3
   },
   "file_extension": ".py",
   "mimetype": "text/x-python",
   "name": "python",
   "nbconvert_exporter": "python",
   "pygments_lexer": "ipython3",
   "version": "3.7.1"
  }
 },
 "nbformat": 4,
 "nbformat_minor": 2
}
