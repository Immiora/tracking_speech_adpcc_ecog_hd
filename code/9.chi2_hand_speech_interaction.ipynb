{
 "cells": [
  {
   "cell_type": "markdown",
   "metadata": {},
   "source": [
    "# Control for interaction between hand annotations and speech / non-speech fragments"
   ]
  },
  {
   "cell_type": "code",
   "execution_count": 7,
   "metadata": {},
   "outputs": [],
   "source": [
    "import matplotlib as mpl\n",
    "mpl.use('TkAgg')\n",
    "import matplotlib.pyplot as plt\n",
    "import numpy as np\n",
    "import pympi\n",
    "from scipy.stats import chi2_contingency\n",
    "\n",
    "%matplotlib inline"
   ]
  },
  {
   "cell_type": "code",
   "execution_count": 8,
   "metadata": {},
   "outputs": [],
   "source": [
    "# load elan annotations \n",
    "D = pympi.Elan.Eaf('../data/hand_presence_annotation_fragments.eaf')\n",
    "tiers = ['hands_speech', 'hands_nonspeech']\n",
    "assert all([i in D.get_tier_names() for i in tiers])\n",
    "\n",
    "A = {}\n",
    "for itier in tiers:\n",
    "    temp = np.array(D.get_annotation_data_for_tier(itier)).astype(np.int32).T\n",
    "    A[itier] = {}\n",
    "    A[itier]['start'], A[itier]['end'], A[itier]['text'] = temp\n",
    "\n",
    "# at 1000 Hz\n",
    "for itier in tiers:\n",
    "    s = np.argsort(A[itier]['start'])\n",
    "    for k, v in A[itier].items():\n",
    "        A[itier][k] = v[s]"
   ]
  },
  {
   "cell_type": "code",
   "execution_count": 13,
   "metadata": {},
   "outputs": [
    {
     "data": {
      "image/png": "[encoded data removed]",
      "text/plain": [
       "<Figure size 720x360 with 2 Axes>"
      ]
     },
     "metadata": {
      "needs_background": "light"
     },
     "output_type": "display_data"
    }
   ],
   "source": [
    "# ttest on average duration of annotation \n",
    "temp_spe, temp_non = [], []\n",
    "temp_spe.append(A['hands_speech']['end'] - A['hands_speech']['start'])\n",
    "temp_spe.append([1]*len(temp_spe[0]))\n",
    "temp_non.append(A['hands_nonspeech']['end'] - A['hands_nonspeech']['start'])\n",
    "temp_non.append([0]*len(temp_non[0]))\n",
    "\n",
    "# histsograms\n",
    "plt.figure(figsize=(6, 3), dpi=120)\n",
    "plt.subplot(121)\n",
    "plt.hist(temp_spe[0])\n",
    "plt.title('Length hands-speech')\n",
    "plt.subplot(122)\n",
    "plt.hist(temp_non[0])\n",
    "plt.title('Length hands-nonspeech')\n",
    "plt.show()"
   ]
  },
  {
   "cell_type": "code",
   "execution_count": 10,
   "metadata": {},
   "outputs": [
    {
     "name": "stdout",
     "output_type": "stream",
     "text": [
      "0.9717840170272802 0.3242356528993436\n"
     ]
    }
   ],
   "source": [
    "# chi squared 2 x 2: speech presence/absence and hand presence/absence\n",
    "\n",
    "def binarize_presence(x):\n",
    "    x[x>0] = 1\n",
    "    return x\n",
    "\n",
    "temp_spe = binarize_presence(A['hands_speech']['text'].copy())\n",
    "temp_non = binarize_presence(A['hands_nonspeech']['text'].copy())\n",
    "\n",
    "cont_tab = np.array([[np.sum(temp_spe), temp_spe.shape[0]-np.sum(temp_spe)],\n",
    "            [np.sum(temp_non), temp_non.shape[0]-np.sum(temp_non)]])\n",
    "chi2, pval, dof, ex = chi2_contingency(cont_tab, correction=True)\n",
    "print(chi2, pval)"
   ]
  },
  {
   "cell_type": "code",
   "execution_count": 11,
   "metadata": {},
   "outputs": [
    {
     "name": "stdout",
     "output_type": "stream",
     "text": [
      "0.10011452158596111 0.7516922469397134\n"
     ]
    }
   ],
   "source": [
    "# chi squared 2 x 2: speech presence/absence and hand movement/hand absence\n",
    "def binarize_move(x):\n",
    "    x[x==1] = 0\n",
    "    x[x>0] = 1\n",
    "    return x\n",
    "\n",
    "temp_spe = binarize_move(A['hands_speech']['text'].copy())\n",
    "temp_non = binarize_move(A['hands_nonspeech']['text'].copy())\n",
    "\n",
    "cont_tab = np.array([[np.sum(temp_spe), temp_spe.shape[0]-np.sum(temp_spe)],\n",
    "            [np.sum(temp_non), temp_non.shape[0]-np.sum(temp_non)]])\n",
    "chi2, pval, dof, ex = chi2_contingency(cont_tab, correction=True)\n",
    "print(chi2, pval)"
   ]
  },
  {
   "cell_type": "code",
   "execution_count": 12,
   "metadata": {},
   "outputs": [
    {
     "name": "stdout",
     "output_type": "stream",
     "text": [
      "1.3138744395544255 0.5184367632076006\n"
     ]
    }
   ],
   "source": [
    "# chi squared 2 x 3: speech presence/absence and hand movement/presence/absence\n",
    "def split_three(x):\n",
    "    x[x>2] = 2\n",
    "    return x\n",
    "\n",
    "temp_spe = split_three(A['hands_speech']['text'].copy())\n",
    "temp_non = split_three(A['hands_nonspeech']['text'].copy())\n",
    "\n",
    "cont_tab = np.array([[np.sum(temp_spe==2), np.sum(temp_spe==1), np.sum(temp_spe==0)],\n",
    "            [np.sum(temp_non==2), np.sum(temp_non==1), np.sum(temp_non==0)]])\n",
    "chi2, pval, dof, ex = chi2_contingency(cont_tab, correction=True)\n",
    "print(chi2, pval)"
   ]
  }
 ],
 "metadata": {
  "kernelspec": {
   "display_name": "Python 3",
   "language": "python",
   "name": "python3"
  },
  "language_info": {
   "codemirror_mode": {
    "name": "ipython",
    "version": 3
   },
   "file_extension": ".py",
   "mimetype": "text/x-python",
   "name": "python",
   "nbconvert_exporter": "python",
   "pygments_lexer": "ipython3",
   "version": "3.7.1"
  }
 },
 "nbformat": 4,
 "nbformat_minor": 2
}
