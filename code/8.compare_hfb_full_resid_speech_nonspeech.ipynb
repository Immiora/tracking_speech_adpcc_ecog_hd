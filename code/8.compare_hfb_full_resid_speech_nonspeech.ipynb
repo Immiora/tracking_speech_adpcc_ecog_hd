{
 "cells": [
  {
   "cell_type": "markdown",
   "metadata": {},
   "source": [
    "# Compare HFB responses to speech and non-speech prior to regression on audio features and after"
   ]
  },
  {
   "cell_type": "code",
   "execution_count": 1,
   "metadata": {},
   "outputs": [],
   "source": [
    "import matplotlib as mpl\n",
    "mpl.use('TkAgg')\n",
    "import matplotlib.pyplot as plt\n",
    "import numpy as np\n",
    "from scipy import linalg\n",
    "from scipy.stats import kruskal\n",
    "import scikit_posthocs as spost\n",
    "from utils import load_fragment_times, zscore\n",
    "\n",
    "%matplotlib inline"
   ]
  },
  {
   "cell_type": "code",
   "execution_count": 2,
   "metadata": {},
   "outputs": [],
   "source": [
    "hdir = '../data/'\n",
    "speech = load_fragment_times(hdir, 'speech')\n",
    "nonspeech = load_fragment_times(hdir,'nonspeech')\n",
    "aud = np.load('../data/audio_envelope_100Hz.npy')\n",
    "pitch = np.loadtxt('../data/M3_audio_mono_down_pitch_short_edited')\n",
    "speech_onoff = np.load('../data/speech_on_off_100Hz.npy')\n",
    "sound_onoff = np.load('../data/sound_on_off_100Hz.npy')"
   ]
  },
  {
   "cell_type": "code",
   "execution_count": 3,
   "metadata": {},
   "outputs": [],
   "source": [
    "subj = 's1'\n",
    "x    = np.load('../data/' + subj + '_HD_100Hz_hfb.npy')\n",
    "pm = np.load('../results/ttest_ecog_speech_nonspeech_'+subj+'_pmask.npz')['pmask_bonf'] # pmask from the first ttest\n",
    "grid = np.load('../data/' + subj + '_HD_grid.npy')\n",
    "n = x.shape[-1]"
   ]
  },
  {
   "cell_type": "code",
   "execution_count": 4,
   "metadata": {},
   "outputs": [],
   "source": [
    "# shift to max correlation lag per fragment for both speech and nonspeech fragments\n",
    "D = np.load('../results/xcor_'+subj+'_audio_envelope_100Hz_hfb_spearman.npz')\n",
    "start = 390\n",
    "r_spe = D['r_spe'][:,:,start:-349]\n",
    "rm_spe = np.argmax(r_spe, 2)\n",
    "r_non = D['r_non'][:,:,start:-349]\n",
    "rm_non = np.argmax(r_non, 2)\n",
    "\n",
    "maxr_spe = np.zeros(rm_spe.shape)\n",
    "maxr_non = np.zeros(rm_non.shape)\n",
    "for i, f in enumerate(rm_spe):\n",
    "    for ir, r in enumerate(f):\n",
    "        maxr_spe[i, ir] = r_spe[i, ir][rm_spe[i, ir]]\n",
    "\n",
    "for i, f in enumerate(rm_non):\n",
    "    for ir, r in enumerate(f):\n",
    "        maxr_non[i, ir] = r_non[i, ir][rm_non[i, ir]]\n",
    "\n",
    "offset = 400 - start\n",
    "rm_spe = rm_spe - offset\n",
    "rm_non = rm_non - offset"
   ]
  },
  {
   "cell_type": "code",
   "execution_count": 5,
   "metadata": {},
   "outputs": [],
   "source": [
    "# select fragments and concatenate over time\n",
    "x_spe, x_non, a_spe, pitch_spe, a_non, pitch_non, o_spe, o_non = [], [], [], [], [], [], [], []\n",
    "for ifrag, (spe_frag, non_frag) in enumerate(zip(speech, nonspeech)):\n",
    "    x_spe.append([])\n",
    "    x_non.append([])\n",
    "    a_spe.append(aud[range(spe_frag[0], spe_frag[1])])\n",
    "    pitch_spe.append(pitch[range(spe_frag[0], spe_frag[1])])\n",
    "    a_non.append(aud[range(non_frag[0], non_frag[1])])\n",
    "    pitch_non.append(pitch[range(non_frag[0], non_frag[1])])\n",
    "    o_spe.append(speech_onoff[range(spe_frag[0], spe_frag[1])]) # on_off based on speech annotations for speech\n",
    "    o_non.append(sound_onoff[range(non_frag[0], non_frag[1])]) # on_off based on db intensity in praat for nonspeech\n",
    "    for i in range(n):\n",
    "        x_spe[-1].append(x[range(spe_frag[0]+rm_spe[ifrag, i], spe_frag[1]+rm_spe[ifrag, i]), i])\n",
    "        x_non[-1].append(x[range(non_frag[0]+rm_non[ifrag, i], non_frag[1]+rm_non[ifrag, i]), i])\n",
    "\n",
    "x_spe = np.array(x_spe)\n",
    "x_non = np.array(x_non)\n",
    "a_spe = np.array(a_spe)\n",
    "pitch_spe = np.array(pitch_spe)\n",
    "a_non = np.array(a_non)\n",
    "pitch_non = np.array(pitch_non)\n",
    "o_spe = np.array(o_spe)\n",
    "o_non = np.array(o_non)\n",
    "\n",
    "x_spe_c = x_spe.swapaxes(1, 2).reshape((-1, n))\n",
    "x_non_c = x_non.swapaxes(1, 2).reshape((-1, n))\n",
    "a_spe_c = a_spe.reshape(-1, )\n",
    "pitch_spe_c = pitch_spe.reshape(-1, )\n",
    "a_non_c = a_non.reshape(-1, )\n",
    "pitch_non_c = pitch_non.reshape(-1, )\n",
    "o_spe_c = o_spe.reshape(-1, )\n",
    "o_non_c = o_non.reshape(-1, )"
   ]
  },
  {
   "cell_type": "code",
   "execution_count": 6,
   "metadata": {},
   "outputs": [],
   "source": [
    "# fit regression\n",
    "a_spe_cz = zscore(a_spe_c)\n",
    "pitch_spe_cz = zscore(pitch_spe_c)\n",
    "a_non_cz = zscore(a_non_c)\n",
    "pitch_non_cz = zscore(pitch_non_c)\n",
    "x_spe_mean = np.mean(x_spe_c, axis=0, keepdims=True)\n",
    "x_spe_std = np.mean(x_spe_c, axis=0, keepdims=True)\n",
    "temp = zscore(np.vstack([x_spe_c, x_non_c]))\n",
    "x_spe_cz = temp[:x_spe_c.shape[0]]\n",
    "x_non_cz = temp[x_spe_c.shape[0]:]\n",
    "\n",
    "all_regs_non = np.vstack([o_non_c, a_non_cz, pitch_non_cz]).T\n",
    "all_regs_spe = np.vstack([o_spe_c, a_spe_cz, pitch_spe_cz]).T\n",
    "\n",
    "x_spe_betas, x_spe_sumres, _, _ = linalg.lstsq(all_regs_spe, x_spe_cz)\n",
    "x_non_betas, x_non_sumres, _, _ = linalg.lstsq(all_regs_non, x_non_cz)\n",
    "\n",
    "x_spe_fit = all_regs_spe.dot(x_spe_betas)\n",
    "x_spe_rsd = x_spe_cz - x_spe_fit\n",
    "x_non_fit = all_regs_non.dot(x_non_betas)\n",
    "x_non_rsd = x_non_cz - x_non_fit\n",
    "\n",
    "x_spe_rsd_f = x_spe_rsd.reshape((speech.shape[0], -1, n))\n",
    "x_non_rsd_f = x_non_rsd.reshape((nonspeech.shape[0], -1, n))\n",
    "x_spe_rsd_fm = np.mean(x_spe_rsd_f,1)\n",
    "x_non_rsd_fm = np.mean(x_non_rsd_f,1)\n",
    "x_spe_cz_f = x_spe_cz.reshape((speech.shape[0], -1, n))\n",
    "x_non_cz_f = x_non_cz.reshape((nonspeech.shape[0], -1, n))\n",
    "x_spe_cz_fm = np.mean(x_spe_cz_f,1)\n",
    "x_non_cz_fm = np.mean(x_non_cz_f,1)"
   ]
  },
  {
   "cell_type": "code",
   "execution_count": 7,
   "metadata": {},
   "outputs": [
    {
     "data": {
      "text/html": [
       "<div>\n",
       "<style scoped>\n",
       "    .dataframe tbody tr th:only-of-type {\n",
       "        vertical-align: middle;\n",
       "    }\n",
       "\n",
       "    .dataframe tbody tr th {\n",
       "        vertical-align: top;\n",
       "    }\n",
       "\n",
       "    .dataframe thead th {\n",
       "        text-align: right;\n",
       "    }\n",
       "</style>\n",
       "<table border=\"1\" class=\"dataframe\">\n",
       "  <thead>\n",
       "    <tr style=\"text-align: right;\">\n",
       "      <th></th>\n",
       "      <th>1</th>\n",
       "      <th>2</th>\n",
       "      <th>3</th>\n",
       "      <th>4</th>\n",
       "    </tr>\n",
       "  </thead>\n",
       "  <tbody>\n",
       "    <tr>\n",
       "      <th>1</th>\n",
       "      <td>-1.000000e+00</td>\n",
       "      <td>0.010517</td>\n",
       "      <td>4.279723e-13</td>\n",
       "      <td>4.662510e-08</td>\n",
       "    </tr>\n",
       "    <tr>\n",
       "      <th>2</th>\n",
       "      <td>1.051684e-02</td>\n",
       "      <td>-1.000000</td>\n",
       "      <td>2.758190e-06</td>\n",
       "      <td>3.668227e-03</td>\n",
       "    </tr>\n",
       "    <tr>\n",
       "      <th>3</th>\n",
       "      <td>4.279723e-13</td>\n",
       "      <td>0.000003</td>\n",
       "      <td>-1.000000e+00</td>\n",
       "      <td>7.463772e-02</td>\n",
       "    </tr>\n",
       "    <tr>\n",
       "      <th>4</th>\n",
       "      <td>4.662510e-08</td>\n",
       "      <td>0.003668</td>\n",
       "      <td>7.463772e-02</td>\n",
       "      <td>-1.000000e+00</td>\n",
       "    </tr>\n",
       "  </tbody>\n",
       "</table>\n",
       "</div>"
      ],
      "text/plain": [
       "              1         2             3             4\n",
       "1 -1.000000e+00  0.010517  4.279723e-13  4.662510e-08\n",
       "2  1.051684e-02 -1.000000  2.758190e-06  3.668227e-03\n",
       "3  4.279723e-13  0.000003 -1.000000e+00  7.463772e-02\n",
       "4  4.662510e-08  0.003668  7.463772e-02 -1.000000e+00"
      ]
     },
     "execution_count": 7,
     "metadata": {},
     "output_type": "execute_result"
    }
   ],
   "source": [
    "# kruskal-wallis test\n",
    "temp = np.vstack([np.mean(x_spe_cz_fm[:, pm], 0), \n",
    "                  np.mean(x_spe_rsd_fm[:, pm], 0), \n",
    "                  np.mean(x_non_cz_fm[:, pm], 0), \n",
    "                  np.mean(x_non_rsd_fm[:, pm], 0)])\n",
    "H, p_omn = kruskal(temp[0], temp[1], temp[2], temp[3])\n",
    "spost.posthoc_dunn(temp)"
   ]
  },
  {
   "cell_type": "code",
   "execution_count": 11,
   "metadata": {},
   "outputs": [
    {
     "data": {
      "image/png": "[encoded data removed]",
      "text/plain": [
       "<Figure size 480x480 with 1 Axes>"
      ]
     },
     "metadata": {
      "needs_background": "light"
     },
     "output_type": "display_data"
    }
   ],
   "source": [
    "# boxplot for s1\n",
    "plt.figure(figsize=(4, 4), dpi=120)\n",
    "plt.boxplot([np.mean(x_spe_cz[:, pm], 0), \n",
    "             np.mean(x_spe_rsd_fm[:, pm], 0), \n",
    "             np.mean(x_non_cz[:, pm], 0), \n",
    "             np.mean(x_non_rsd_fm[:, pm],0)], positions = [.5, 1, 1.5, 2], widths=.33)\n",
    "plt.xlim(0, 2.5)\n",
    "plt.ylim(-.6, .6)\n",
    "plt.xticks([.5, 1, 1.5, 2], ['Speech\\nfull', 'Speech\\nfull', 'Non-spe\\nfull', 'Non-spe\\nres'])\n",
    "plt.ylabel('Z-scored HFB')\n",
    "plt.show()"
   ]
  }
 ],
 "metadata": {
  "kernelspec": {
   "display_name": "Python 3",
   "language": "python",
   "name": "python3"
  },
  "language_info": {
   "codemirror_mode": {
    "name": "ipython",
    "version": 3
   },
   "file_extension": ".py",
   "mimetype": "text/x-python",
   "name": "python",
   "nbconvert_exporter": "python",
   "pygments_lexer": "ipython3",
   "version": "3.7.1"
  }
 },
 "nbformat": 4,
 "nbformat_minor": 2
}
